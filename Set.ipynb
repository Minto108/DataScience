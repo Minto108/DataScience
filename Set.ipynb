{
 "cells": [
  {
   "cell_type": "markdown",
   "id": "1fc16b78-be26-40fd-a51e-0ca0ae43e3a8",
   "metadata": {},
   "source": [
    "# Set"
   ]
  },
  {
   "cell_type": "markdown",
   "id": "fb94eb16-8673-4fce-8c09-a9fd1efe1bec",
   "metadata": {},
   "source": [
    "##### A set is an unordered collection of unique elemets i.e no duplicate is allowed in a set."
   ]
  },
  {
   "cell_type": "code",
   "execution_count": 1,
   "id": "8eec06f9-cc1b-4a67-a4d4-1f03e94f77bd",
   "metadata": {},
   "outputs": [],
   "source": [
    "set1 = {1,2,3,1,4,5,3,6,7,4,3,8}"
   ]
  },
  {
   "cell_type": "code",
   "execution_count": 2,
   "id": "ad0a5846-6c82-4ad2-b319-42eeb706a9df",
   "metadata": {},
   "outputs": [
    {
     "data": {
      "text/plain": [
       "{1, 2, 3, 4, 5, 6, 7, 8}"
      ]
     },
     "execution_count": 2,
     "metadata": {},
     "output_type": "execute_result"
    }
   ],
   "source": [
    "set1"
   ]
  },
  {
   "cell_type": "markdown",
   "id": "ff4e40e3-9f28-4813-a22d-60a804a3837d",
   "metadata": {},
   "source": [
    "**Add elements to a set**"
   ]
  },
  {
   "cell_type": "code",
   "execution_count": 2,
   "id": "27aef210-d632-404c-bb63-ef58e2f456bf",
   "metadata": {},
   "outputs": [],
   "source": [
    "set1.add('hello')"
   ]
  },
  {
   "cell_type": "code",
   "execution_count": 4,
   "id": "46e60754-40df-4f55-8ceb-003271c68c6c",
   "metadata": {},
   "outputs": [
    {
     "data": {
      "text/plain": [
       "{1, 2, 3, 4, 5, 6, 7, 8, 'hello'}"
      ]
     },
     "execution_count": 4,
     "metadata": {},
     "output_type": "execute_result"
    }
   ],
   "source": [
    "set1"
   ]
  },
  {
   "cell_type": "markdown",
   "id": "7269e55f-3682-4474-b4c8-e6b06ede0414",
   "metadata": {},
   "source": [
    "**Verify elements in a set**"
   ]
  },
  {
   "cell_type": "code",
   "execution_count": 5,
   "id": "3d28397c-2267-429f-bd23-84043cd1425a",
   "metadata": {},
   "outputs": [
    {
     "data": {
      "text/plain": [
       "True"
      ]
     },
     "execution_count": 5,
     "metadata": {},
     "output_type": "execute_result"
    }
   ],
   "source": [
    "'hello' in set1"
   ]
  },
  {
   "cell_type": "markdown",
   "id": "4c73df21-9f43-42e5-b563-8843fff054e0",
   "metadata": {},
   "source": [
    "'world' in set1"
   ]
  },
  {
   "cell_type": "markdown",
   "id": "fed2cb44-6e24-4a0d-8ae2-bba73b8df2f9",
   "metadata": {},
   "source": [
    "**Intersection of sets**"
   ]
  },
  {
   "cell_type": "code",
   "execution_count": 3,
   "id": "335b5ff0-022e-43e9-8ca2-834accb1f3cb",
   "metadata": {},
   "outputs": [],
   "source": [
    "set2 = {1,2,3,'hello', 'world'}"
   ]
  },
  {
   "cell_type": "code",
   "execution_count": 8,
   "id": "816579d8-b62b-4537-8a98-394b4cee8c3d",
   "metadata": {},
   "outputs": [
    {
     "data": {
      "text/plain": [
       "{1, 2, 3, 'hello', 'world'}"
      ]
     },
     "execution_count": 8,
     "metadata": {},
     "output_type": "execute_result"
    }
   ],
   "source": [
    "set2"
   ]
  },
  {
   "cell_type": "code",
   "execution_count": 4,
   "id": "4463925f-f024-47c1-b963-59da624e20e3",
   "metadata": {},
   "outputs": [],
   "source": [
    "set3 = set1 & set2"
   ]
  },
  {
   "cell_type": "code",
   "execution_count": 5,
   "id": "1f330596-a800-40b6-be83-f31c69b1541c",
   "metadata": {},
   "outputs": [
    {
     "data": {
      "text/plain": [
       "{1, 2, 3, 'hello'}"
      ]
     },
     "execution_count": 5,
     "metadata": {},
     "output_type": "execute_result"
    }
   ],
   "source": [
    "set3"
   ]
  },
  {
   "cell_type": "code",
   "execution_count": 6,
   "id": "23af0e79-d7a3-4c95-a028-3eb6251dfd8a",
   "metadata": {},
   "outputs": [],
   "source": [
    "set3 = set1.intersection(set2)"
   ]
  },
  {
   "cell_type": "code",
   "execution_count": 7,
   "id": "30e46409-d9db-495a-9e78-ad8d5af0563b",
   "metadata": {},
   "outputs": [
    {
     "data": {
      "text/plain": [
       "{1, 2, 3, 'hello'}"
      ]
     },
     "execution_count": 7,
     "metadata": {},
     "output_type": "execute_result"
    }
   ],
   "source": [
    "set3"
   ]
  },
  {
   "cell_type": "markdown",
   "id": "29bec101-63b3-4975-aaa5-df66dfe85a35",
   "metadata": {},
   "source": [
    "**Union of sets**"
   ]
  },
  {
   "cell_type": "code",
   "execution_count": 11,
   "id": "154beade-d1a1-4566-acdf-1399d60c153a",
   "metadata": {},
   "outputs": [
    {
     "data": {
      "text/plain": [
       "{1, 2, 3, 4, 5, 6, 7, 8, 'hello', 'world'}"
      ]
     },
     "execution_count": 11,
     "metadata": {},
     "output_type": "execute_result"
    }
   ],
   "source": [
    "set1.union(set2)"
   ]
  },
  {
   "cell_type": "code",
   "execution_count": 14,
   "id": "6050e9ca-e981-489b-8d7b-c42795da382e",
   "metadata": {},
   "outputs": [
    {
     "data": {
      "text/plain": [
       "{1, 2, 3, 4, 5, 6, 7, 8, 'hello'}"
      ]
     },
     "execution_count": 14,
     "metadata": {},
     "output_type": "execute_result"
    }
   ],
   "source": [
    "set1"
   ]
  },
  {
   "cell_type": "markdown",
   "id": "8813bef4-26c8-40e8-a4a2-158183f2e80b",
   "metadata": {},
   "source": [
    "**Tocheck whether the given set is a superset**"
   ]
  },
  {
   "cell_type": "code",
   "execution_count": 10,
   "id": "ed36c098-3476-4ee9-b31b-b3bbb861308c",
   "metadata": {},
   "outputs": [
    {
     "data": {
      "text/plain": [
       "False"
      ]
     },
     "execution_count": 10,
     "metadata": {},
     "output_type": "execute_result"
    }
   ],
   "source": [
    "set1.issuperset(set2)"
   ]
  },
  {
   "cell_type": "markdown",
   "id": "c5a751e0-d02e-4f28-ab75-ce14f2e157bb",
   "metadata": {},
   "source": [
    "**To check whether the given set is a subset**"
   ]
  },
  {
   "cell_type": "code",
   "execution_count": 13,
   "id": "b534eebc-ae38-4e3f-8bd7-ab52de0f5619",
   "metadata": {},
   "outputs": [
    {
     "data": {
      "text/plain": [
       "False"
      ]
     },
     "execution_count": 13,
     "metadata": {},
     "output_type": "execute_result"
    }
   ],
   "source": [
    "set2.issubset(set1)"
   ]
  },
  {
   "cell_type": "markdown",
   "id": "d1b22ad1-9b91-417c-8545-4c24ff43b1e9",
   "metadata": {},
   "source": [
    "**To remove element in a set**"
   ]
  },
  {
   "cell_type": "code",
   "execution_count": 15,
   "id": "821fcbc5-b780-40ea-afc0-f4818cc4715c",
   "metadata": {},
   "outputs": [],
   "source": [
    "set2.remove('world')"
   ]
  },
  {
   "cell_type": "code",
   "execution_count": 16,
   "id": "00233709-5ad8-4d5c-a5c2-46c5140e8775",
   "metadata": {},
   "outputs": [
    {
     "data": {
      "text/plain": [
       "{1, 2, 3, 'hello'}"
      ]
     },
     "execution_count": 16,
     "metadata": {},
     "output_type": "execute_result"
    }
   ],
   "source": [
    "set2"
   ]
  },
  {
   "cell_type": "markdown",
   "id": "54bb297e-4450-4df1-9a47-73e03df3ca7e",
   "metadata": {},
   "source": [
    "**Difference between two sets i.e elements contained in set1 and not set2**"
   ]
  },
  {
   "cell_type": "code",
   "execution_count": 9,
   "id": "e9002327-449e-49ef-bcab-d0de949e5d9d",
   "metadata": {},
   "outputs": [
    {
     "data": {
      "text/plain": [
       "{4, 5, 6, 7, 8}"
      ]
     },
     "execution_count": 9,
     "metadata": {},
     "output_type": "execute_result"
    }
   ],
   "source": [
    "set1.difference(set2)"
   ]
  },
  {
   "cell_type": "markdown",
   "id": "30b5758d-0804-46ce-8551-feb56949db9c",
   "metadata": {},
   "source": [
    "**To create a shallow copy of the set**"
   ]
  },
  {
   "cell_type": "code",
   "execution_count": 11,
   "id": "acc447c6-b4b7-4873-b197-69cc0c2c81f2",
   "metadata": {},
   "outputs": [],
   "source": [
    "set4 = set1.copy()"
   ]
  },
  {
   "cell_type": "code",
   "execution_count": 12,
   "id": "8e995331-a8eb-4dd7-b1f2-13b4d1f15d17",
   "metadata": {},
   "outputs": [
    {
     "data": {
      "text/plain": [
       "({1, 2, 3, 4, 5, 6, 7, 8, 'hello'}, {1, 2, 3, 4, 5, 6, 7, 8, 'hello'})"
      ]
     },
     "execution_count": 12,
     "metadata": {},
     "output_type": "execute_result"
    }
   ],
   "source": [
    "set4,set1"
   ]
  },
  {
   "cell_type": "markdown",
   "id": "81fb26ed-eae2-4bf5-af14-2d640a3ed725",
   "metadata": {},
   "source": [
    "**To get uncommon elements from both the sets**"
   ]
  },
  {
   "cell_type": "code",
   "execution_count": 13,
   "id": "8ee12af3-9d0b-4a6b-8bb2-c20a31dbf5f6",
   "metadata": {},
   "outputs": [
    {
     "data": {
      "text/plain": [
       "set()"
      ]
     },
     "execution_count": 13,
     "metadata": {},
     "output_type": "execute_result"
    }
   ],
   "source": [
    "set4.symmetric_difference(set1)"
   ]
  },
  {
   "cell_type": "code",
   "execution_count": 14,
   "id": "87b1ad47-936d-481c-8958-4d09fbaa3f22",
   "metadata": {},
   "outputs": [
    {
     "data": {
      "text/plain": [
       "({4, 5, 6, 7, 8, 'world'}, {1, 2, 3, 'hello', 'world'})"
      ]
     },
     "execution_count": 14,
     "metadata": {},
     "output_type": "execute_result"
    }
   ],
   "source": [
    "set4.symmetric_difference(set2), set2"
   ]
  },
  {
   "cell_type": "markdown",
   "id": "b5cf0301-65dc-4427-8038-32c2add6e519",
   "metadata": {},
   "source": [
    "**To add elements from another iterable to the set**"
   ]
  },
  {
   "cell_type": "code",
   "execution_count": 15,
   "id": "2f57bf27-c791-4724-aba6-453e72ad59e6",
   "metadata": {},
   "outputs": [],
   "source": [
    "set4.update(['kiwi', 'apple'])"
   ]
  },
  {
   "cell_type": "code",
   "execution_count": 16,
   "id": "ab5bdeee-8fc8-4418-b110-c83195928572",
   "metadata": {},
   "outputs": [
    {
     "data": {
      "text/plain": [
       "{1, 2, 3, 4, 5, 6, 7, 8, 'apple', 'hello', 'kiwi'}"
      ]
     },
     "execution_count": 16,
     "metadata": {},
     "output_type": "execute_result"
    }
   ],
   "source": [
    "set4"
   ]
  },
  {
   "cell_type": "markdown",
   "id": "9cca9fd3-688c-4917-b834-312ef72bed47",
   "metadata": {},
   "source": [
    "**To create a shallow copy of the set**"
   ]
  },
  {
   "cell_type": "code",
   "execution_count": 17,
   "id": "1bce4451-495a-47c3-817e-9850a23f0960",
   "metadata": {},
   "outputs": [],
   "source": [
    "set5 = set4.copy()"
   ]
  },
  {
   "cell_type": "code",
   "execution_count": 20,
   "id": "ce69ccbb-3af4-4949-b56f-037ff2f47c3f",
   "metadata": {},
   "outputs": [],
   "source": [
    "set4.add(9)"
   ]
  },
  {
   "cell_type": "code",
   "execution_count": 22,
   "id": "d88cff65-8c9b-44e8-b20b-206eb2ec3486",
   "metadata": {},
   "outputs": [
    {
     "data": {
      "text/plain": [
       "({1, 2, 3, 4, 5, 6, 7, 8, 9, 'apple', 'hello', 'kiwi'},\n",
       " {1, 2, 3, 4, 5, 6, 7, 8, 'apple', 'hello', 'kiwi'})"
      ]
     },
     "execution_count": 22,
     "metadata": {},
     "output_type": "execute_result"
    }
   ],
   "source": [
    "set4, set5"
   ]
  },
  {
   "cell_type": "markdown",
   "id": "aa2db656-30b4-4c84-9970-b1055214ae36",
   "metadata": {},
   "source": [
    "**TO remove elements from a set**"
   ]
  },
  {
   "cell_type": "code",
   "execution_count": 23,
   "id": "9e8289ac-1bf4-415d-a00a-1728c508f7c2",
   "metadata": {},
   "outputs": [
    {
     "data": {
      "text/plain": [
       "1"
      ]
     },
     "execution_count": 23,
     "metadata": {},
     "output_type": "execute_result"
    }
   ],
   "source": [
    "set4.pop()"
   ]
  },
  {
   "cell_type": "code",
   "execution_count": 24,
   "id": "bc932a35-7a36-4838-b439-054281ceb52d",
   "metadata": {},
   "outputs": [],
   "source": [
    "set4.discard(1)"
   ]
  },
  {
   "cell_type": "code",
   "execution_count": 25,
   "id": "9fe453ed-65e7-4909-916b-c5594d1bacb0",
   "metadata": {},
   "outputs": [
    {
     "data": {
      "text/plain": [
       "{2, 3, 4, 5, 6, 7, 8, 9, 'apple', 'hello', 'kiwi'}"
      ]
     },
     "execution_count": 25,
     "metadata": {},
     "output_type": "execute_result"
    }
   ],
   "source": [
    "set4"
   ]
  },
  {
   "cell_type": "code",
   "execution_count": null,
   "id": "2c7d320c-7774-4966-8246-cc1bd9dc668e",
   "metadata": {},
   "outputs": [],
   "source": []
  }
 ],
 "metadata": {
  "kernelspec": {
   "display_name": "Python 3 (ipykernel)",
   "language": "python",
   "name": "python3"
  },
  "language_info": {
   "codemirror_mode": {
    "name": "ipython",
    "version": 3
   },
   "file_extension": ".py",
   "mimetype": "text/x-python",
   "name": "python",
   "nbconvert_exporter": "python",
   "pygments_lexer": "ipython3",
   "version": "3.13.7"
  }
 },
 "nbformat": 4,
 "nbformat_minor": 5
}
