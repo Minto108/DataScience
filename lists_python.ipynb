{
 "cells": [
  {
   "cell_type": "markdown",
   "id": "6d04ed95-e7d0-406a-9048-f005ae9f81f7",
   "metadata": {},
   "source": [
    "# List"
   ]
  },
  {
   "cell_type": "code",
   "execution_count": 2,
   "id": "23bd1c60-03a9-4856-bd95-fcbaea4a401c",
   "metadata": {},
   "outputs": [],
   "source": [
    "num = [i for i in range(1, 11)]"
   ]
  },
  {
   "cell_type": "code",
   "execution_count": 3,
   "id": "aeb018d6-562e-48f4-a5f8-b284761aeed7",
   "metadata": {},
   "outputs": [
    {
     "data": {
      "text/plain": [
       "[1, 2, 3, 4, 5, 6, 7, 8, 9, 10]"
      ]
     },
     "execution_count": 3,
     "metadata": {},
     "output_type": "execute_result"
    }
   ],
   "source": [
    "num"
   ]
  },
  {
   "cell_type": "markdown",
   "id": "8692c186-8e86-491c-961e-9ea8000bd5dc",
   "metadata": {},
   "source": [
    "### To add a single element to the end of a list"
   ]
  },
  {
   "cell_type": "code",
   "execution_count": 4,
   "id": "eadb4b6d-07e3-4daf-8c51-cbf0d97b6e57",
   "metadata": {},
   "outputs": [],
   "source": [
    "num.append(11)"
   ]
  },
  {
   "cell_type": "code",
   "execution_count": 5,
   "id": "82fa93b9-6d25-45a3-8d88-068a227d9652",
   "metadata": {},
   "outputs": [
    {
     "data": {
      "text/plain": [
       "[1, 2, 3, 4, 5, 6, 7, 8, 9, 10, 11]"
      ]
     },
     "execution_count": 5,
     "metadata": {},
     "output_type": "execute_result"
    }
   ],
   "source": [
    "num"
   ]
  },
  {
   "cell_type": "markdown",
   "id": "c1b77d1c-01f1-46f7-b970-7f47e8556e04",
   "metadata": {},
   "source": [
    "### To add multiple elements to a list"
   ]
  },
  {
   "cell_type": "code",
   "execution_count": 37,
   "id": "50219aab-bc24-48dd-93f9-3ce9516cc882",
   "metadata": {},
   "outputs": [],
   "source": [
    "num.extend([12,13,14])"
   ]
  },
  {
   "cell_type": "code",
   "execution_count": 38,
   "id": "c5b3ca2c-b5b5-4237-91b7-3d697bc69e0d",
   "metadata": {},
   "outputs": [
    {
     "data": {
      "text/plain": [
       "[0, 1, 2, 3, 4, 5, 6, 7, 8, 9, 10, 12, 13, 14]"
      ]
     },
     "execution_count": 38,
     "metadata": {},
     "output_type": "execute_result"
    }
   ],
   "source": [
    "num"
   ]
  },
  {
   "cell_type": "markdown",
   "id": "a900b784-15fb-4f52-b8a0-43a95c069f97",
   "metadata": {},
   "source": [
    "### To make a shallow copy of the list"
   ]
  },
  {
   "cell_type": "markdown",
   "id": "27abf214-64a5-4457-9f69-6ffdf7c1de78",
   "metadata": {},
   "source": [
    "**Changes to the original list reflects in the copy**"
   ]
  },
  {
   "cell_type": "code",
   "execution_count": 6,
   "id": "be5a7603-c256-4e11-8363-555da40bedfe",
   "metadata": {},
   "outputs": [],
   "source": [
    "number = num.copy()"
   ]
  },
  {
   "cell_type": "code",
   "execution_count": 7,
   "id": "6cad1447-2ea4-48f5-8600-4ef0fbe1187f",
   "metadata": {},
   "outputs": [
    {
     "data": {
      "text/plain": [
       "[1, 2, 3, 4, 5, 6, 7, 8, 9, 10, 11]"
      ]
     },
     "execution_count": 7,
     "metadata": {},
     "output_type": "execute_result"
    }
   ],
   "source": [
    "number"
   ]
  },
  {
   "cell_type": "code",
   "execution_count": 12,
   "id": "ec041c46-3888-4fcd-ad97-3a8e359d484c",
   "metadata": {},
   "outputs": [],
   "source": [
    "num[0] = 0"
   ]
  },
  {
   "cell_type": "code",
   "execution_count": 13,
   "id": "d4749463-133b-4706-9a24-6cfc3db015ae",
   "metadata": {},
   "outputs": [
    {
     "data": {
      "text/plain": [
       "[0, 2, 3, 4, 5, 6, 7, 8, 9, 10, 11]"
      ]
     },
     "execution_count": 13,
     "metadata": {},
     "output_type": "execute_result"
    }
   ],
   "source": [
    "num"
   ]
  },
  {
   "cell_type": "code",
   "execution_count": 14,
   "id": "7edbe963-4aea-4b98-bb86-2ce852cc73da",
   "metadata": {},
   "outputs": [
    {
     "data": {
      "text/plain": [
       "[0, 2, 3, 4, 5, 6, 7, 8, 9, 10, 11]"
      ]
     },
     "execution_count": 14,
     "metadata": {},
     "output_type": "execute_result"
    }
   ],
   "source": [
    "number"
   ]
  },
  {
   "cell_type": "markdown",
   "id": "b647d224-1a64-446c-a99c-f188466ab3ed",
   "metadata": {},
   "source": [
    "**Changes to the original does not reflect in the copy**"
   ]
  },
  {
   "cell_type": "code",
   "execution_count": 16,
   "id": "58b04404-e1b0-4b94-a5fa-e6712977362c",
   "metadata": {},
   "outputs": [],
   "source": [
    "number = num[:]"
   ]
  },
  {
   "cell_type": "code",
   "execution_count": 17,
   "id": "63b228d0-0d21-47ad-8a59-71ea8d1528fb",
   "metadata": {},
   "outputs": [
    {
     "data": {
      "text/plain": [
       "[0, 2, 3, 4, 5, 6, 7, 8, 9, 10, 11]"
      ]
     },
     "execution_count": 17,
     "metadata": {},
     "output_type": "execute_result"
    }
   ],
   "source": [
    "number"
   ]
  },
  {
   "cell_type": "code",
   "execution_count": 18,
   "id": "b65d9452-c8f5-40e6-99ba-22662f87ab91",
   "metadata": {},
   "outputs": [],
   "source": [
    "num[0] = 1"
   ]
  },
  {
   "cell_type": "code",
   "execution_count": 19,
   "id": "71d1dd68-0ce4-4cf3-a73e-54c7c77215bb",
   "metadata": {},
   "outputs": [
    {
     "data": {
      "text/plain": [
       "[1, 2, 3, 4, 5, 6, 7, 8, 9, 10, 11]"
      ]
     },
     "execution_count": 19,
     "metadata": {},
     "output_type": "execute_result"
    }
   ],
   "source": [
    "num"
   ]
  },
  {
   "cell_type": "code",
   "execution_count": 20,
   "id": "cad4dddd-d3b7-4f07-85b6-ecc616815bc3",
   "metadata": {},
   "outputs": [
    {
     "data": {
      "text/plain": [
       "[0, 2, 3, 4, 5, 6, 7, 8, 9, 10, 11]"
      ]
     },
     "execution_count": 20,
     "metadata": {},
     "output_type": "execute_result"
    }
   ],
   "source": [
    "number"
   ]
  },
  {
   "cell_type": "markdown",
   "id": "1a2cb921-da57-42fd-9c67-b0fbc5967000",
   "metadata": {},
   "source": [
    "### To count the number of appearences of an element in a list"
   ]
  },
  {
   "cell_type": "code",
   "execution_count": 21,
   "id": "58a8e233-6d44-49fb-a7bc-38d940d3250c",
   "metadata": {},
   "outputs": [
    {
     "data": {
      "text/plain": [
       "0"
      ]
     },
     "execution_count": 21,
     "metadata": {},
     "output_type": "execute_result"
    }
   ],
   "source": [
    "num.count(0)"
   ]
  },
  {
   "cell_type": "code",
   "execution_count": 22,
   "id": "2c17f4a4-1679-460a-a78e-f030099d7b3f",
   "metadata": {},
   "outputs": [
    {
     "data": {
      "text/plain": [
       "1"
      ]
     },
     "execution_count": 22,
     "metadata": {},
     "output_type": "execute_result"
    }
   ],
   "source": [
    "num.count(4)"
   ]
  },
  {
   "cell_type": "markdown",
   "id": "a6bdabf6-067c-42a6-bded-ca313a488e5b",
   "metadata": {},
   "source": [
    "### To insert an element in a particular position"
   ]
  },
  {
   "cell_type": "code",
   "execution_count": 28,
   "id": "d5be7c5e-1756-4e95-911f-ad65edd85c08",
   "metadata": {},
   "outputs": [],
   "source": [
    "num.insert(0, 0)"
   ]
  },
  {
   "cell_type": "code",
   "execution_count": 29,
   "id": "9c21c4d1-1c5a-4fc9-80c3-fe30bf08e002",
   "metadata": {},
   "outputs": [
    {
     "data": {
      "text/plain": [
       "[0, 1, 1, 1, 2, 3, 4, 5, 6, 7, 8, 9, 10, 11]"
      ]
     },
     "execution_count": 29,
     "metadata": {},
     "output_type": "execute_result"
    }
   ],
   "source": [
    "num"
   ]
  },
  {
   "cell_type": "markdown",
   "id": "2678b14d-4785-4276-a386-9c326a89f3e2",
   "metadata": {},
   "source": [
    "### To delete an element in a particular position"
   ]
  },
  {
   "cell_type": "code",
   "execution_count": 30,
   "id": "43052140-6712-491f-869b-d3dfe1e49c16",
   "metadata": {},
   "outputs": [],
   "source": [
    "del(num[1])"
   ]
  },
  {
   "cell_type": "code",
   "execution_count": 31,
   "id": "74a37bc7-b173-4648-98eb-b7e2532f935d",
   "metadata": {},
   "outputs": [
    {
     "data": {
      "text/plain": [
       "[0, 1, 1, 2, 3, 4, 5, 6, 7, 8, 9, 10, 11]"
      ]
     },
     "execution_count": 31,
     "metadata": {},
     "output_type": "execute_result"
    }
   ],
   "source": [
    "num"
   ]
  },
  {
   "cell_type": "markdown",
   "id": "a4aafb4e-9de0-4ca4-9ada-83648932dc27",
   "metadata": {},
   "source": [
    "### To delete the first appearance of a particular element"
   ]
  },
  {
   "cell_type": "code",
   "execution_count": 32,
   "id": "fba71295-e64b-432a-b79c-a7f762fc9a29",
   "metadata": {},
   "outputs": [],
   "source": [
    "num.remove(1)"
   ]
  },
  {
   "cell_type": "code",
   "execution_count": 33,
   "id": "d32fe468-800f-44b6-84cf-cde4a27b42bd",
   "metadata": {},
   "outputs": [
    {
     "data": {
      "text/plain": [
       "[0, 1, 2, 3, 4, 5, 6, 7, 8, 9, 10, 11]"
      ]
     },
     "execution_count": 33,
     "metadata": {},
     "output_type": "execute_result"
    }
   ],
   "source": [
    "num"
   ]
  },
  {
   "cell_type": "markdown",
   "id": "a35c30ec-889d-4a3b-abc5-5011600632cd",
   "metadata": {},
   "source": [
    "### To remove the last element in the list"
   ]
  },
  {
   "cell_type": "code",
   "execution_count": 34,
   "id": "25d2ce9a-a17b-42b0-b6e0-7e281ff301f3",
   "metadata": {},
   "outputs": [
    {
     "data": {
      "text/plain": [
       "11"
      ]
     },
     "execution_count": 34,
     "metadata": {},
     "output_type": "execute_result"
    }
   ],
   "source": [
    "num.pop()"
   ]
  },
  {
   "cell_type": "code",
   "execution_count": 35,
   "id": "7b70ce26-3c62-4fd5-b9d5-dc3e18a02f87",
   "metadata": {},
   "outputs": [
    {
     "data": {
      "text/plain": [
       "[0, 1, 2, 3, 4, 5, 6, 7, 8, 9, 10]"
      ]
     },
     "execution_count": 35,
     "metadata": {},
     "output_type": "execute_result"
    }
   ],
   "source": [
    "num"
   ]
  },
  {
   "cell_type": "markdown",
   "id": "9c7dea69-3c76-457b-9e94-10c3b1fdd1fe",
   "metadata": {},
   "source": [
    "### To reverse the order of elements in a list"
   ]
  },
  {
   "cell_type": "code",
   "execution_count": 39,
   "id": "d274f6bd-1393-4a50-be1d-de13c666aefb",
   "metadata": {},
   "outputs": [],
   "source": [
    "num.reverse()"
   ]
  },
  {
   "cell_type": "code",
   "execution_count": 40,
   "id": "06d879d2-f1fd-4512-baa7-4cbe8c5039ab",
   "metadata": {},
   "outputs": [
    {
     "data": {
      "text/plain": [
       "[14, 13, 12, 10, 9, 8, 7, 6, 5, 4, 3, 2, 1, 0]"
      ]
     },
     "execution_count": 40,
     "metadata": {},
     "output_type": "execute_result"
    }
   ],
   "source": [
    "num"
   ]
  },
  {
   "cell_type": "markdown",
   "id": "821c2c7d-ece9-4318-aaa9-4ff55529856c",
   "metadata": {},
   "source": [
    "### To sort the elements of a list "
   ]
  },
  {
   "cell_type": "markdown",
   "id": "f7f1fc0d-e39b-4abd-a805-01d147fd8ead",
   "metadata": {},
   "source": [
    "###### Ascending order"
   ]
  },
  {
   "cell_type": "code",
   "execution_count": 41,
   "id": "772a276e-7f77-48b7-8f02-c79a34351b1f",
   "metadata": {},
   "outputs": [],
   "source": [
    "num.sort()"
   ]
  },
  {
   "cell_type": "code",
   "execution_count": 42,
   "id": "40968994-4cac-4d35-934e-b560ac1de5a9",
   "metadata": {},
   "outputs": [
    {
     "data": {
      "text/plain": [
       "[0, 1, 2, 3, 4, 5, 6, 7, 8, 9, 10, 12, 13, 14]"
      ]
     },
     "execution_count": 42,
     "metadata": {},
     "output_type": "execute_result"
    }
   ],
   "source": [
    "num"
   ]
  },
  {
   "cell_type": "markdown",
   "id": "e147bf07-4100-4d2a-bbe4-376f521da6dc",
   "metadata": {},
   "source": [
    "##### Descending order"
   ]
  },
  {
   "cell_type": "code",
   "execution_count": 44,
   "id": "31c8d5a8-95c8-4a50-8aae-57579e02d2db",
   "metadata": {},
   "outputs": [],
   "source": [
    "num.sort(reverse = True)"
   ]
  },
  {
   "cell_type": "code",
   "execution_count": 45,
   "id": "a788922f-61ec-4740-8acd-de396f666525",
   "metadata": {},
   "outputs": [
    {
     "data": {
      "text/plain": [
       "[14, 13, 12, 10, 9, 8, 7, 6, 5, 4, 3, 2, 1, 0]"
      ]
     },
     "execution_count": 45,
     "metadata": {},
     "output_type": "execute_result"
    }
   ],
   "source": [
    "num"
   ]
  },
  {
   "cell_type": "code",
   "execution_count": null,
   "id": "48e00859-1221-4d46-9d05-95d11303d608",
   "metadata": {},
   "outputs": [],
   "source": []
  }
 ],
 "metadata": {
  "kernelspec": {
   "display_name": "Python 3 (ipykernel)",
   "language": "python",
   "name": "python3"
  },
  "language_info": {
   "codemirror_mode": {
    "name": "ipython",
    "version": 3
   },
   "file_extension": ".py",
   "mimetype": "text/x-python",
   "name": "python",
   "nbconvert_exporter": "python",
   "pygments_lexer": "ipython3",
   "version": "3.13.7"
  }
 },
 "nbformat": 4,
 "nbformat_minor": 5
}
