{
 "cells": [
  {
   "cell_type": "markdown",
   "id": "6967c516-3256-474c-a626-2f0286c57d70",
   "metadata": {},
   "source": [
    "# Dictionay"
   ]
  },
  {
   "cell_type": "code",
   "execution_count": 1,
   "id": "fdc7449d-5dc5-4308-a95c-3b722abe9f85",
   "metadata": {},
   "outputs": [],
   "source": [
    "Dict = {'key1': 1, 'key2':'Hello World!', 'key3':'13-05-2003', 'key4': [1,2,3]}"
   ]
  },
  {
   "cell_type": "code",
   "execution_count": 2,
   "id": "2c2dc184-4183-4394-a9c6-3a951258688b",
   "metadata": {},
   "outputs": [
    {
     "data": {
      "text/plain": [
       "{'key1': 1, 'key2': 'Hello World!', 'key3': '13-05-2003', 'key4': [1, 2, 3]}"
      ]
     },
     "execution_count": 2,
     "metadata": {},
     "output_type": "execute_result"
    }
   ],
   "source": [
    "Dict"
   ]
  },
  {
   "cell_type": "code",
   "execution_count": 3,
   "id": "234a457c-f151-464d-afe6-e9f212877f91",
   "metadata": {},
   "outputs": [
    {
     "data": {
      "text/plain": [
       "1"
      ]
     },
     "execution_count": 3,
     "metadata": {},
     "output_type": "execute_result"
    }
   ],
   "source": [
    "Dict['key1']"
   ]
  },
  {
   "cell_type": "markdown",
   "id": "e58bc26f-7b8c-4a0b-8b6c-9919fa63f99a",
   "metadata": {},
   "source": [
    "### Keys in the given dictionary"
   ]
  },
  {
   "cell_type": "code",
   "execution_count": 4,
   "id": "5e8a4bec-d894-423c-95a9-48c399aa98b8",
   "metadata": {},
   "outputs": [
    {
     "data": {
      "text/plain": [
       "dict_keys(['key1', 'key2', 'key3', 'key4'])"
      ]
     },
     "execution_count": 4,
     "metadata": {},
     "output_type": "execute_result"
    }
   ],
   "source": [
    "Dict.keys()"
   ]
  },
  {
   "cell_type": "markdown",
   "id": "c64728f5-13d7-4524-985b-dc6f1638d80c",
   "metadata": {},
   "source": [
    "### Values in the given dictionary"
   ]
  },
  {
   "cell_type": "code",
   "execution_count": 5,
   "id": "788f00aa-e86a-4932-b379-9bb7ded1a773",
   "metadata": {},
   "outputs": [
    {
     "data": {
      "text/plain": [
       "dict_values([1, 'Hello World!', '13-05-2003', [1, 2, 3]])"
      ]
     },
     "execution_count": 5,
     "metadata": {},
     "output_type": "execute_result"
    }
   ],
   "source": [
    "Dict.values()"
   ]
  },
  {
   "cell_type": "markdown",
   "id": "0ab0415a-6131-45b5-a686-48c5600cb38b",
   "metadata": {},
   "source": [
    "### Appending values to a dictionay"
   ]
  },
  {
   "cell_type": "code",
   "execution_count": 6,
   "id": "d69c02c3-c9de-4455-9126-3724d8cc1c60",
   "metadata": {},
   "outputs": [],
   "source": [
    "Dict['key5'] = (0,1)"
   ]
  },
  {
   "cell_type": "code",
   "execution_count": 7,
   "id": "ca281220-5d49-4078-aab7-d0d171b5c80a",
   "metadata": {},
   "outputs": [
    {
     "data": {
      "text/plain": [
       "{'key1': 1,\n",
       " 'key2': 'Hello World!',\n",
       " 'key3': '13-05-2003',\n",
       " 'key4': [1, 2, 3],\n",
       " 'key5': (0, 1)}"
      ]
     },
     "execution_count": 7,
     "metadata": {},
     "output_type": "execute_result"
    }
   ],
   "source": [
    "Dict"
   ]
  },
  {
   "cell_type": "markdown",
   "id": "e04b9d96-4b3c-4885-b203-061e267098ee",
   "metadata": {},
   "source": [
    "### Deleting entries by key"
   ]
  },
  {
   "cell_type": "code",
   "execution_count": 8,
   "id": "3d3cd3a8-db37-46c2-9ceb-04ffc4641e7d",
   "metadata": {},
   "outputs": [],
   "source": [
    "del(Dict['key5'])"
   ]
  },
  {
   "cell_type": "code",
   "execution_count": 9,
   "id": "17e3205f-e579-47c1-8bb6-19563db49a27",
   "metadata": {},
   "outputs": [
    {
     "data": {
      "text/plain": [
       "{'key1': 1, 'key2': 'Hello World!', 'key3': '13-05-2003', 'key4': [1, 2, 3]}"
      ]
     },
     "execution_count": 9,
     "metadata": {},
     "output_type": "execute_result"
    }
   ],
   "source": [
    "Dict"
   ]
  },
  {
   "cell_type": "markdown",
   "id": "1c376660-b90d-4a63-bedf-00621e70c504",
   "metadata": {},
   "source": [
    "### Verify the key is in dictionary"
   ]
  },
  {
   "cell_type": "code",
   "execution_count": 10,
   "id": "465784da-cf0b-4919-9da2-7315ac029746",
   "metadata": {},
   "outputs": [
    {
     "data": {
      "text/plain": [
       "True"
      ]
     },
     "execution_count": 10,
     "metadata": {},
     "output_type": "execute_result"
    }
   ],
   "source": [
    "'key3' in Dict"
   ]
  },
  {
   "cell_type": "code",
   "execution_count": 11,
   "id": "919d6442-b71d-46e3-92b3-a0c7e760dce1",
   "metadata": {},
   "outputs": [
    {
     "data": {
      "text/plain": [
       "False"
      ]
     },
     "execution_count": 11,
     "metadata": {},
     "output_type": "execute_result"
    }
   ],
   "source": [
    "'key5' in Dict"
   ]
  },
  {
   "cell_type": "code",
   "execution_count": null,
   "id": "fc4eaf7b-415c-4991-83d9-2f0805884282",
   "metadata": {},
   "outputs": [],
   "source": []
  }
 ],
 "metadata": {
  "kernelspec": {
   "display_name": "Python 3 (ipykernel)",
   "language": "python",
   "name": "python3"
  },
  "language_info": {
   "codemirror_mode": {
    "name": "ipython",
    "version": 3
   },
   "file_extension": ".py",
   "mimetype": "text/x-python",
   "name": "python",
   "nbconvert_exporter": "python",
   "pygments_lexer": "ipython3",
   "version": "3.13.7"
  }
 },
 "nbformat": 4,
 "nbformat_minor": 5
}
