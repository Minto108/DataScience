{
 "cells": [
  {
   "cell_type": "code",
   "execution_count": 10,
   "id": "6c1e996f-9e7e-4897-a635-0a686fc55612",
   "metadata": {},
   "outputs": [
    {
     "name": "stdout",
     "output_type": "stream",
     "text": [
      "Defaulting to user installation because normal site-packages is not writeable\n",
      "Requirement already satisfied: yfinance in /home/mintokuruvilla/.local/lib/python3.13/site-packages (0.2.66)\n",
      "Requirement already satisfied: pandas>=1.3.0 in /home/mintokuruvilla/.local/lib/python3.13/site-packages (from yfinance) (2.3.2)\n",
      "Requirement already satisfied: numpy>=1.16.5 in /home/mintokuruvilla/.local/lib/python3.13/site-packages (from yfinance) (2.3.3)\n",
      "Requirement already satisfied: requests>=2.31 in /usr/lib/python3.13/site-packages (from yfinance) (2.32.4)\n",
      "Requirement already satisfied: multitasking>=0.0.7 in /home/mintokuruvilla/.local/lib/python3.13/site-packages (from yfinance) (0.0.12)\n",
      "Requirement already satisfied: platformdirs>=2.0.0 in /home/mintokuruvilla/.local/lib/python3.13/site-packages (from yfinance) (4.4.0)\n",
      "Requirement already satisfied: pytz>=2022.5 in /home/mintokuruvilla/.local/lib/python3.13/site-packages (from yfinance) (2025.2)\n",
      "Requirement already satisfied: frozendict>=2.3.4 in /home/mintokuruvilla/.local/lib/python3.13/site-packages (from yfinance) (2.4.6)\n",
      "Requirement already satisfied: peewee>=3.16.2 in /home/mintokuruvilla/.local/lib/python3.13/site-packages (from yfinance) (3.18.2)\n",
      "Requirement already satisfied: beautifulsoup4>=4.11.1 in /usr/lib/python3.13/site-packages (from yfinance) (4.13.5)\n",
      "Requirement already satisfied: curl_cffi>=0.7 in /home/mintokuruvilla/.local/lib/python3.13/site-packages (from yfinance) (0.13.0)\n",
      "Requirement already satisfied: protobuf>=3.19.0 in /home/mintokuruvilla/.local/lib/python3.13/site-packages (from yfinance) (6.32.1)\n",
      "Requirement already satisfied: websockets>=13.0 in /home/mintokuruvilla/.local/lib/python3.13/site-packages (from yfinance) (15.0.1)\n",
      "Requirement already satisfied: soupsieve>1.2 in /usr/lib/python3.13/site-packages (from beautifulsoup4>=4.11.1->yfinance) (2.7)\n",
      "Requirement already satisfied: typing-extensions>=4.0.0 in /usr/lib/python3.13/site-packages (from beautifulsoup4>=4.11.1->yfinance) (4.12.2)\n",
      "Requirement already satisfied: cffi>=1.12.0 in /usr/lib64/python3.13/site-packages (from curl_cffi>=0.7->yfinance) (1.17.1)\n",
      "Requirement already satisfied: certifi>=2024.2.2 in /usr/lib/python3.13/site-packages (from curl_cffi>=0.7->yfinance) (2025.7.9)\n",
      "Requirement already satisfied: python-dateutil>=2.8.2 in /usr/lib/python3.13/site-packages (from pandas>=1.3.0->yfinance) (2.8.2)\n",
      "Requirement already satisfied: tzdata>=2022.7 in /home/mintokuruvilla/.local/lib/python3.13/site-packages (from pandas>=1.3.0->yfinance) (2025.2)\n",
      "Requirement already satisfied: charset-normalizer<4,>=2 in /usr/lib/python3.13/site-packages (from requests>=2.31->yfinance) (3.4.1)\n",
      "Requirement already satisfied: idna<4,>=2.5 in /usr/lib/python3.13/site-packages (from requests>=2.31->yfinance) (3.10)\n",
      "Requirement already satisfied: urllib3<3,>=1.21.1 in /usr/lib/python3.13/site-packages (from requests>=2.31->yfinance) (2.3.0)\n",
      "Requirement already satisfied: pycparser in /usr/lib/python3.13/site-packages (from cffi>=1.12.0->curl_cffi>=0.7->yfinance) (2.20)\n",
      "Requirement already satisfied: six>=1.5 in /usr/lib/python3.13/site-packages (from python-dateutil>=2.8.2->pandas>=1.3.0->yfinance) (1.17.0)\n",
      "Requirement already satisfied: ply==3.11 in /usr/lib/python3.13/site-packages (from pycparser->cffi>=1.12.0->curl_cffi>=0.7->yfinance) (3.11)\n",
      "Defaulting to user installation because normal site-packages is not writeable\n",
      "Requirement already satisfied: matplotlib in /home/mintokuruvilla/.local/lib/python3.13/site-packages (3.10.6)\n",
      "Requirement already satisfied: contourpy>=1.0.1 in /home/mintokuruvilla/.local/lib/python3.13/site-packages (from matplotlib) (1.3.3)\n",
      "Requirement already satisfied: cycler>=0.10 in /home/mintokuruvilla/.local/lib/python3.13/site-packages (from matplotlib) (0.12.1)\n",
      "Requirement already satisfied: fonttools>=4.22.0 in /home/mintokuruvilla/.local/lib/python3.13/site-packages (from matplotlib) (4.60.0)\n",
      "Requirement already satisfied: kiwisolver>=1.3.1 in /home/mintokuruvilla/.local/lib/python3.13/site-packages (from matplotlib) (1.4.9)\n",
      "Requirement already satisfied: numpy>=1.23 in /home/mintokuruvilla/.local/lib/python3.13/site-packages (from matplotlib) (2.3.3)\n",
      "Requirement already satisfied: packaging>=20.0 in /usr/lib/python3.13/site-packages (from matplotlib) (24.2)\n",
      "Requirement already satisfied: pillow>=8 in /usr/lib64/python3.13/site-packages (from matplotlib) (11.1.0)\n",
      "Requirement already satisfied: pyparsing>=2.3.1 in /home/mintokuruvilla/.local/lib/python3.13/site-packages (from matplotlib) (3.2.5)\n",
      "Requirement already satisfied: python-dateutil>=2.7 in /usr/lib/python3.13/site-packages (from matplotlib) (2.8.2)\n",
      "Requirement already satisfied: six>=1.5 in /usr/lib/python3.13/site-packages (from python-dateutil>=2.7->matplotlib) (1.17.0)\n"
     ]
    }
   ],
   "source": [
    "!pip install yfinance\n",
    "!pip install matplotlib"
   ]
  },
  {
   "cell_type": "code",
   "execution_count": 39,
   "id": "b4944809-e630-469d-a221-ed1fc47d5589",
   "metadata": {},
   "outputs": [],
   "source": [
    "import yfinance as yf\n",
    "import pandas as pd"
   ]
  },
  {
   "cell_type": "code",
   "execution_count": 40,
   "id": "bc254bb2-c090-4037-b6ac-8aac0ebbc1dd",
   "metadata": {},
   "outputs": [],
   "source": [
    "apple = yf.Ticker(\"AAPL\")"
   ]
  },
  {
   "cell_type": "code",
   "execution_count": 41,
   "id": "43455cac-32a7-4465-92b0-7e34efeeb21f",
   "metadata": {},
   "outputs": [
    {
     "name": "stdout",
     "output_type": "stream",
     "text": [
      "yfinance.Ticker object <AAPL>\n"
     ]
    }
   ],
   "source": [
    "print(apple)"
   ]
  },
  {
   "cell_type": "code",
   "execution_count": 42,
   "id": "c582a01c-48ae-4246-a261-feae07317a34",
   "metadata": {},
   "outputs": [],
   "source": [
    "data = apple.info"
   ]
  },
  {
   "cell_type": "code",
   "execution_count": 43,
   "id": "552c2555-1ba9-4d22-9ebf-d2abbaca030b",
   "metadata": {},
   "outputs": [],
   "source": [
    "import json\n",
    "with open('apple_json', 'w') as file:\n",
    "    json.dump(data, file)"
   ]
  },
  {
   "cell_type": "code",
   "execution_count": 44,
   "id": "88ab8fb6-2b5d-4ad3-9bb5-70a4c084764c",
   "metadata": {},
   "outputs": [
    {
     "data": {
      "text/plain": [
       "{'address1': 'One Apple Park Way',\n",
       " 'city': 'Cupertino',\n",
       " 'state': 'CA',\n",
       " 'zip': '95014',\n",
       " 'country': 'United States',\n",
       " 'phone': '(408) 996-1010',\n",
       " 'website': 'https://www.apple.com',\n",
       " 'industry': 'Consumer Electronics',\n",
       " 'industryKey': 'consumer-electronics',\n",
       " 'industryDisp': 'Consumer Electronics',\n",
       " 'sector': 'Technology',\n",
       " 'sectorKey': 'technology',\n",
       " 'sectorDisp': 'Technology',\n",
       " 'longBusinessSummary': 'Apple Inc. designs, manufactures, and markets smartphones, personal computers, tablets, wearables, and accessories worldwide. The company offers iPhone, a line of smartphones; Mac, a line of personal computers; iPad, a line of multi-purpose tablets; and wearables, home, and accessories comprising AirPods, Apple TV, Apple Watch, Beats products, and HomePod. It also provides AppleCare support and cloud services; and operates various platforms, including the App Store that allow customers to discover and download applications and digital content, such as books, music, video, games, and podcasts, as well as advertising services include third-party licensing arrangements and its own advertising platforms. In addition, the company offers various subscription-based services, such as Apple Arcade, a game subscription service; Apple Fitness+, a personalized fitness service; Apple Music, which offers users a curated listening experience with on-demand radio stations; Apple News+, a subscription news and magazine service; Apple TV+, which offers exclusive original content; Apple Card, a co-branded credit card; and Apple Pay, a cashless payment service, as well as licenses its intellectual property. The company serves consumers, and small and mid-sized businesses; and the education, enterprise, and government markets. It distributes third-party applications for its products through the App Store. The company also sells its products through its retail and online stores, and direct sales force; and third-party cellular network carriers, wholesalers, retailers, and resellers. Apple Inc. was founded in 1976 and is headquartered in Cupertino, California.',\n",
       " 'fullTimeEmployees': 150000,\n",
       " 'companyOfficers': [{'maxAge': 1,\n",
       "   'name': 'Mr. Timothy D. Cook',\n",
       "   'age': 63,\n",
       "   'title': 'CEO & Director',\n",
       "   'yearBorn': 1961,\n",
       "   'fiscalYear': 2024,\n",
       "   'totalPay': 16520856,\n",
       "   'exercisedValue': 0,\n",
       "   'unexercisedValue': 0},\n",
       "  {'maxAge': 1,\n",
       "   'name': 'Ms. Katherine L. Adams',\n",
       "   'age': 60,\n",
       "   'title': 'Senior VP, General Counsel & Secretary',\n",
       "   'yearBorn': 1964,\n",
       "   'fiscalYear': 2024,\n",
       "   'totalPay': 5022182,\n",
       "   'exercisedValue': 0,\n",
       "   'unexercisedValue': 0},\n",
       "  {'maxAge': 1,\n",
       "   'name': \"Ms. Deirdre  O'Brien\",\n",
       "   'age': 57,\n",
       "   'title': 'Chief People Officer & Senior VP of Retail',\n",
       "   'yearBorn': 1967,\n",
       "   'fiscalYear': 2024,\n",
       "   'totalPay': 5022182,\n",
       "   'exercisedValue': 0,\n",
       "   'unexercisedValue': 0},\n",
       "  {'maxAge': 1,\n",
       "   'name': 'Mr. Jeffrey E. Williams',\n",
       "   'age': 60,\n",
       "   'title': 'Senior Vice President of Design, Watch, & Health',\n",
       "   'yearBorn': 1964,\n",
       "   'fiscalYear': 2024,\n",
       "   'totalPay': 5020737,\n",
       "   'exercisedValue': 0,\n",
       "   'unexercisedValue': 0},\n",
       "  {'maxAge': 1,\n",
       "   'name': 'Mr. Kevan  Parekh',\n",
       "   'age': 52,\n",
       "   'title': 'Senior VP & CFO',\n",
       "   'yearBorn': 1972,\n",
       "   'fiscalYear': 2024,\n",
       "   'exercisedValue': 0,\n",
       "   'unexercisedValue': 0},\n",
       "  {'maxAge': 1,\n",
       "   'name': 'Mr. Sabih  Khan',\n",
       "   'title': 'Chief Operating Officer',\n",
       "   'fiscalYear': 2024,\n",
       "   'exercisedValue': 0,\n",
       "   'unexercisedValue': 0},\n",
       "  {'maxAge': 1,\n",
       "   'name': 'Mr. Chris  Kondo',\n",
       "   'title': 'Senior Director of Corporate Accounting',\n",
       "   'fiscalYear': 2024,\n",
       "   'exercisedValue': 0,\n",
       "   'unexercisedValue': 0},\n",
       "  {'maxAge': 1,\n",
       "   'name': 'Suhasini  Chandramouli',\n",
       "   'title': 'Director of Investor Relations',\n",
       "   'fiscalYear': 2024,\n",
       "   'exercisedValue': 0,\n",
       "   'unexercisedValue': 0},\n",
       "  {'maxAge': 1,\n",
       "   'name': 'Ms. Kristin Huguet Quayle',\n",
       "   'title': 'Vice President of Worldwide Communications',\n",
       "   'fiscalYear': 2024,\n",
       "   'exercisedValue': 0,\n",
       "   'unexercisedValue': 0},\n",
       "  {'maxAge': 1,\n",
       "   'name': 'Mr. Greg  Joswiak',\n",
       "   'title': 'Senior Vice President of Worldwide Marketing',\n",
       "   'fiscalYear': 2024,\n",
       "   'exercisedValue': 0,\n",
       "   'unexercisedValue': 0}],\n",
       " 'auditRisk': 7,\n",
       " 'boardRisk': 1,\n",
       " 'compensationRisk': 3,\n",
       " 'shareHolderRightsRisk': 1,\n",
       " 'overallRisk': 1,\n",
       " 'governanceEpochDate': 1756684800,\n",
       " 'compensationAsOfEpochDate': 1735603200,\n",
       " 'irWebsite': 'http://investor.apple.com/',\n",
       " 'executiveTeam': [],\n",
       " 'maxAge': 86400,\n",
       " 'priceHint': 2,\n",
       " 'previousClose': 256.87,\n",
       " 'open': 254.13,\n",
       " 'dayLow': 253.78,\n",
       " 'dayHigh': 257.36,\n",
       " 'regularMarketPreviousClose': 256.87,\n",
       " 'regularMarketOpen': 254.13,\n",
       " 'regularMarketDayLow': 253.78,\n",
       " 'regularMarketDayHigh': 257.36,\n",
       " 'dividendRate': 1.04,\n",
       " 'dividendYield': 0.41,\n",
       " 'exDividendDate': 1754870400,\n",
       " 'payoutRatio': 0.1533,\n",
       " 'fiveYearAvgDividendYield': 0.54,\n",
       " 'beta': 1.109,\n",
       " 'trailingPE': 38.764793,\n",
       " 'forwardPE': 30.741274,\n",
       " 'volume': 45566241,\n",
       " 'regularMarketVolume': 45566241,\n",
       " 'averageVolume': 56787322,\n",
       " 'averageVolume10days': 66996360,\n",
       " 'averageDailyVolume10Day': 66996360,\n",
       " 'bid': 241.21,\n",
       " 'ask': 266.97,\n",
       " 'bidSize': 1,\n",
       " 'askSize': 1,\n",
       " 'marketCap': 3791126003712,\n",
       " 'fiftyTwoWeekLow': 169.21,\n",
       " 'fiftyTwoWeekHigh': 260.1,\n",
       " 'allTimeHigh': 260.1,\n",
       " 'allTimeLow': 0.049107,\n",
       " 'priceToSalesTrailing12Months': 9.277763,\n",
       " 'fiftyDayAverage': 228.4506,\n",
       " 'twoHundredDayAverage': 221.9736,\n",
       " 'trailingAnnualDividendRate': 1.01,\n",
       " 'trailingAnnualDividendYield': 0.00393195,\n",
       " 'currency': 'USD',\n",
       " 'tradeable': False,\n",
       " 'enterpriseValue': 3837452091392,\n",
       " 'profitMargins': 0.24295999,\n",
       " 'floatShares': 14814419318,\n",
       " 'sharesOutstanding': 14840390000,\n",
       " 'sharesShort': 118199377,\n",
       " 'sharesShortPriorMonth': 127079143,\n",
       " 'sharesShortPreviousMonthDate': 1755216000,\n",
       " 'dateShortInterest': 1757894400,\n",
       " 'sharesPercentSharesOut': 0.008,\n",
       " 'heldPercentInsiders': 0.0197,\n",
       " 'heldPercentInstitutions': 0.63646,\n",
       " 'shortRatio': 2.47,\n",
       " 'shortPercentOfFloat': 0.008,\n",
       " 'impliedSharesOutstanding': 15318899712,\n",
       " 'bookValue': 4.431,\n",
       " 'priceToBook': 57.652897,\n",
       " 'lastFiscalYearEnd': 1727481600,\n",
       " 'nextFiscalYearEnd': 1759017600,\n",
       " 'mostRecentQuarter': 1751068800,\n",
       " 'earningsQuarterlyGrowth': 0.093,\n",
       " 'netIncomeToCommon': 99280003072,\n",
       " 'trailingEps': 6.59,\n",
       " 'forwardEps': 8.31,\n",
       " 'lastSplitFactor': '4:1',\n",
       " 'lastSplitDate': 1598832000,\n",
       " 'enterpriseToRevenue': 9.391,\n",
       " 'enterpriseToEbitda': 27.082,\n",
       " '52WeekChange': 0.0963949,\n",
       " 'SandP52WeekChange': 0.1529237,\n",
       " 'lastDividendValue': 0.26,\n",
       " 'lastDividendDate': 1754870400,\n",
       " 'quoteType': 'EQUITY',\n",
       " 'currentPrice': 255.46,\n",
       " 'targetHighPrice': 310.0,\n",
       " 'targetLowPrice': 175.0,\n",
       " 'targetMeanPrice': 243.19057,\n",
       " 'targetMedianPrice': 243.0,\n",
       " 'recommendationMean': 2.02128,\n",
       " 'recommendationKey': 'buy',\n",
       " 'numberOfAnalystOpinions': 40,\n",
       " 'totalCash': 55372001280,\n",
       " 'totalCashPerShare': 3.731,\n",
       " 'ebitda': 141696008192,\n",
       " 'totalDebt': 101698002944,\n",
       " 'quickRatio': 0.724,\n",
       " 'currentRatio': 0.868,\n",
       " 'totalRevenue': 408624988160,\n",
       " 'debtToEquity': 154.486,\n",
       " 'revenuePerShare': 27.173,\n",
       " 'returnOnAssets': 0.24545999,\n",
       " 'returnOnEquity': 1.49814,\n",
       " 'grossProfits': 190739005440,\n",
       " 'freeCashflow': 94873747456,\n",
       " 'operatingCashflow': 108564996096,\n",
       " 'earningsGrowth': 0.121,\n",
       " 'revenueGrowth': 0.096,\n",
       " 'grossMargins': 0.46678,\n",
       " 'ebitdaMargins': 0.34675997,\n",
       " 'operatingMargins': 0.29990998,\n",
       " 'financialCurrency': 'USD',\n",
       " 'symbol': 'AAPL',\n",
       " 'language': 'en-US',\n",
       " 'region': 'US',\n",
       " 'typeDisp': 'Equity',\n",
       " 'quoteSourceName': 'Nasdaq Real Time Price',\n",
       " 'triggerable': True,\n",
       " 'customPriceAlertConfidence': 'HIGH',\n",
       " 'marketState': 'CLOSED',\n",
       " 'regularMarketChangePercent': -0.548911,\n",
       " 'regularMarketPrice': 255.46,\n",
       " 'corporateActions': [],\n",
       " 'postMarketTime': 1758931161,\n",
       " 'regularMarketTime': 1758916800,\n",
       " 'exchange': 'NMS',\n",
       " 'messageBoardId': 'finmb_24937',\n",
       " 'exchangeTimezoneName': 'America/New_York',\n",
       " 'exchangeTimezoneShortName': 'EDT',\n",
       " 'gmtOffSetMilliseconds': -14400000,\n",
       " 'market': 'us_market',\n",
       " 'esgPopulated': False,\n",
       " 'shortName': 'Apple Inc.',\n",
       " 'longName': 'Apple Inc.',\n",
       " 'postMarketChangePercent': 0.007824713,\n",
       " 'postMarketPrice': 255.48,\n",
       " 'postMarketChange': 0.019989014,\n",
       " 'regularMarketChange': -1.40999,\n",
       " 'regularMarketDayRange': '253.78 - 257.36',\n",
       " 'fiftyDayAverageChange': 27.0094,\n",
       " 'fiftyDayAverageChangePercent': 0.118228614,\n",
       " 'twoHundredDayAverageChange': 33.486404,\n",
       " 'twoHundredDayAverageChangePercent': 0.1508576,\n",
       " 'sourceInterval': 15,\n",
       " 'exchangeDataDelayedBy': 0,\n",
       " 'averageAnalystRating': '2.0 - Buy',\n",
       " 'cryptoTradeable': False,\n",
       " 'fullExchangeName': 'NasdaqGS',\n",
       " 'averageDailyVolume3Month': 56787322,\n",
       " 'fiftyTwoWeekLowChange': 86.25,\n",
       " 'fiftyTwoWeekLowChangePercent': 0.50972164,\n",
       " 'fiftyTwoWeekRange': '169.21 - 260.1',\n",
       " 'fiftyTwoWeekHighChange': -4.6399994,\n",
       " 'fiftyTwoWeekHighChangePercent': -0.01783929,\n",
       " 'fiftyTwoWeekChangePercent': 9.63949,\n",
       " 'dividendDate': 1755129600,\n",
       " 'earningsTimestamp': 1753992000,\n",
       " 'earningsTimestampStart': 1761854400,\n",
       " 'earningsTimestampEnd': 1761854400,\n",
       " 'earningsCallTimestampStart': 1753995600,\n",
       " 'earningsCallTimestampEnd': 1753995600,\n",
       " 'isEarningsDateEstimate': True,\n",
       " 'epsTrailingTwelveMonths': 6.59,\n",
       " 'epsForward': 8.31,\n",
       " 'epsCurrentYear': 7.38559,\n",
       " 'priceEpsCurrentYear': 34.588978,\n",
       " 'hasPrePostMarketData': True,\n",
       " 'firstTradeDateMilliseconds': 345479400000,\n",
       " 'displayName': 'Apple',\n",
       " 'trailingPegRatio': 2.4456}"
      ]
     },
     "execution_count": 44,
     "metadata": {},
     "output_type": "execute_result"
    }
   ],
   "source": [
    "with open('apple_json') as file:\n",
    "    apple_info = json.load(file)\n",
    "\n",
    "apple_info"
   ]
  },
  {
   "cell_type": "code",
   "execution_count": 45,
   "id": "b3587457-140d-4224-8f0f-4995d3ac4ee6",
   "metadata": {},
   "outputs": [
    {
     "data": {
      "text/plain": [
       "dict"
      ]
     },
     "execution_count": 45,
     "metadata": {},
     "output_type": "execute_result"
    }
   ],
   "source": [
    "type(apple_info)"
   ]
  },
  {
   "cell_type": "code",
   "execution_count": 46,
   "id": "c16a1076-e946-4d85-ada3-574bd0bac61b",
   "metadata": {},
   "outputs": [
    {
     "data": {
      "text/plain": [
       "'United States'"
      ]
     },
     "execution_count": 46,
     "metadata": {},
     "output_type": "execute_result"
    }
   ],
   "source": [
    "apple_info['country']"
   ]
  },
  {
   "cell_type": "code",
   "execution_count": 47,
   "id": "108792aa-a23c-4bd8-9c0c-d16a8c3be4b8",
   "metadata": {},
   "outputs": [
    {
     "data": {
      "text/plain": [
       "'https://www.apple.com'"
      ]
     },
     "execution_count": 47,
     "metadata": {},
     "output_type": "execute_result"
    }
   ],
   "source": [
    "apple_info['website']"
   ]
  },
  {
   "cell_type": "code",
   "execution_count": 63,
   "id": "a40a05ff-e55e-47f5-bca9-ec75be6fd458",
   "metadata": {},
   "outputs": [
    {
     "name": "stderr",
     "output_type": "stream",
     "text": [
      "$AAPL: possibly delisted; no price data found  (1d 1926-10-22 -> 2025-09-27)\n"
     ]
    }
   ],
   "source": [
    "apple_share_price_data = apple.history(period=\"max\")"
   ]
  },
  {
   "cell_type": "code",
   "execution_count": 56,
   "id": "27ae006f-b6a5-4f39-9c0d-03b81517a85d",
   "metadata": {},
   "outputs": [
    {
     "data": {
      "text/html": [
       "<div>\n",
       "<style scoped>\n",
       "    .dataframe tbody tr th:only-of-type {\n",
       "        vertical-align: middle;\n",
       "    }\n",
       "\n",
       "    .dataframe tbody tr th {\n",
       "        vertical-align: top;\n",
       "    }\n",
       "\n",
       "    .dataframe thead th {\n",
       "        text-align: right;\n",
       "    }\n",
       "</style>\n",
       "<table border=\"1\" class=\"dataframe\">\n",
       "  <thead>\n",
       "    <tr style=\"text-align: right;\">\n",
       "      <th></th>\n",
       "      <th>Open</th>\n",
       "      <th>High</th>\n",
       "      <th>Low</th>\n",
       "      <th>Close</th>\n",
       "      <th>Volume</th>\n",
       "      <th>Dividends</th>\n",
       "      <th>Stock Splits</th>\n",
       "    </tr>\n",
       "    <tr>\n",
       "      <th>Date</th>\n",
       "      <th></th>\n",
       "      <th></th>\n",
       "      <th></th>\n",
       "      <th></th>\n",
       "      <th></th>\n",
       "      <th></th>\n",
       "      <th></th>\n",
       "    </tr>\n",
       "  </thead>\n",
       "  <tbody>\n",
       "    <tr>\n",
       "      <th>2025-09-26 00:00:00-04:00</th>\n",
       "      <td>254.100006</td>\n",
       "      <td>257.600006</td>\n",
       "      <td>253.779999</td>\n",
       "      <td>255.460007</td>\n",
       "      <td>46045700</td>\n",
       "      <td>0.0</td>\n",
       "      <td>0.0</td>\n",
       "    </tr>\n",
       "  </tbody>\n",
       "</table>\n",
       "</div>"
      ],
      "text/plain": [
       "                                 Open        High         Low       Close  \\\n",
       "Date                                                                        \n",
       "2025-09-26 00:00:00-04:00  254.100006  257.600006  253.779999  255.460007   \n",
       "\n",
       "                             Volume  Dividends  Stock Splits  \n",
       "Date                                                          \n",
       "2025-09-26 00:00:00-04:00  46045700        0.0           0.0  "
      ]
     },
     "execution_count": 56,
     "metadata": {},
     "output_type": "execute_result"
    }
   ],
   "source": [
    "apple_share_price_data.head()"
   ]
  },
  {
   "cell_type": "code",
   "execution_count": 50,
   "id": "a73374f1-78a8-4b84-8ee4-74ccbfccacc0",
   "metadata": {},
   "outputs": [
    {
     "data": {
      "text/html": [
       "<div>\n",
       "<style scoped>\n",
       "    .dataframe tbody tr th:only-of-type {\n",
       "        vertical-align: middle;\n",
       "    }\n",
       "\n",
       "    .dataframe tbody tr th {\n",
       "        vertical-align: top;\n",
       "    }\n",
       "\n",
       "    .dataframe thead th {\n",
       "        text-align: right;\n",
       "    }\n",
       "</style>\n",
       "<table border=\"1\" class=\"dataframe\">\n",
       "  <thead>\n",
       "    <tr style=\"text-align: right;\">\n",
       "      <th></th>\n",
       "      <th>Open</th>\n",
       "      <th>High</th>\n",
       "      <th>Low</th>\n",
       "      <th>Close</th>\n",
       "      <th>Adj Close</th>\n",
       "      <th>Volume</th>\n",
       "    </tr>\n",
       "    <tr>\n",
       "      <th>Date</th>\n",
       "      <th></th>\n",
       "      <th></th>\n",
       "      <th></th>\n",
       "      <th></th>\n",
       "      <th></th>\n",
       "      <th></th>\n",
       "    </tr>\n",
       "  </thead>\n",
       "  <tbody>\n",
       "  </tbody>\n",
       "</table>\n",
       "</div>"
      ],
      "text/plain": [
       "Empty DataFrame\n",
       "Columns: [Open, High, Low, Close, Adj Close, Volume]\n",
       "Index: []"
      ]
     },
     "execution_count": 50,
     "metadata": {},
     "output_type": "execute_result"
    }
   ],
   "source": [
    "apple_share_price_data.tail()"
   ]
  },
  {
   "cell_type": "code",
   "execution_count": 51,
   "id": "93111d79-84b9-4ed1-a4a3-f478d717bb98",
   "metadata": {},
   "outputs": [],
   "source": [
    "apple_share_price_data.reset_index(inplace=True)"
   ]
  },
  {
   "cell_type": "code",
   "execution_count": 52,
   "id": "404f4386-672f-46db-abd2-f986d0fd9c6f",
   "metadata": {},
   "outputs": [
    {
     "data": {
      "text/html": [
       "<div>\n",
       "<style scoped>\n",
       "    .dataframe tbody tr th:only-of-type {\n",
       "        vertical-align: middle;\n",
       "    }\n",
       "\n",
       "    .dataframe tbody tr th {\n",
       "        vertical-align: top;\n",
       "    }\n",
       "\n",
       "    .dataframe thead th {\n",
       "        text-align: right;\n",
       "    }\n",
       "</style>\n",
       "<table border=\"1\" class=\"dataframe\">\n",
       "  <thead>\n",
       "    <tr style=\"text-align: right;\">\n",
       "      <th></th>\n",
       "      <th>Date</th>\n",
       "      <th>Open</th>\n",
       "      <th>High</th>\n",
       "      <th>Low</th>\n",
       "      <th>Close</th>\n",
       "      <th>Adj Close</th>\n",
       "      <th>Volume</th>\n",
       "    </tr>\n",
       "  </thead>\n",
       "  <tbody>\n",
       "  </tbody>\n",
       "</table>\n",
       "</div>"
      ],
      "text/plain": [
       "Empty DataFrame\n",
       "Columns: [Date, Open, High, Low, Close, Adj Close, Volume]\n",
       "Index: []"
      ]
     },
     "execution_count": 52,
     "metadata": {},
     "output_type": "execute_result"
    }
   ],
   "source": [
    "apple_share_price_data"
   ]
  },
  {
   "cell_type": "code",
   "execution_count": null,
   "id": "a5617a6d-35b5-4a56-b1c3-063e5d19b4ad",
   "metadata": {},
   "outputs": [],
   "source": []
  }
 ],
 "metadata": {
  "kernelspec": {
   "display_name": "Python 3 (ipykernel)",
   "language": "python",
   "name": "python3"
  },
  "language_info": {
   "codemirror_mode": {
    "name": "ipython",
    "version": 3
   },
   "file_extension": ".py",
   "mimetype": "text/x-python",
   "name": "python",
   "nbconvert_exporter": "python",
   "pygments_lexer": "ipython3",
   "version": "3.13.7"
  }
 },
 "nbformat": 4,
 "nbformat_minor": 5
}
